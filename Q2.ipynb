{
  "nbformat": 4,
  "nbformat_minor": 0,
  "metadata": {
    "colab": {
      "provenance": [],
      "collapsed_sections": []
    },
    "kernelspec": {
      "name": "python3",
      "display_name": "Python 3"
    },
    "language_info": {
      "name": "python"
    }
  },
  "cells": [
    {
      "cell_type": "code",
      "source": [
        "# Q2\n",
        "\n",
        "# PATTERN\n",
        "# The ith element of the output array is product of all the elements in the input array except the ith element\n",
        "\n",
        "# CODE\n",
        "# For getting the elements in the output array it would not be efficient if we do n-1 numbers multplications each\n",
        "# time so we first calculate the product while taking the input and divide by the corresponding ith element for\n",
        "# every element in the input list. Edge cases with input array containig zeros are handled properly to avoid \n",
        "# error and also arrays having more than 1 zero in it are also dealt properly."
      ],
      "metadata": {
        "id": "HYVBq7hyBwWs"
      },
      "execution_count": 5,
      "outputs": []
    },
    {
      "cell_type": "code",
      "execution_count": 3,
      "metadata": {
        "colab": {
          "base_uri": "https://localhost:8080/"
        },
        "id": "oO4PKWRDBB6a",
        "outputId": "4c792a36-f22e-4766-9c71-186a40d41054"
      },
      "outputs": [
        {
          "output_type": "stream",
          "name": "stdout",
          "text": [
            "Enter no of numbers in the array: 4\n",
            "\n",
            "Enter the numbers by giving space: 1 2 3 0\n",
            "Input array is: \n",
            "1 2 3 0\n",
            "Output array is: \n",
            "0 0 0 6\n"
          ]
        }
      ],
      "source": [
        "def my_function(b,n):\n",
        "    l=[]\n",
        "    count=0;\n",
        "    product=1\n",
        "    for i in b:\n",
        "        if count>1 or count==-1:\n",
        "            count=-1\n",
        "        elif i==0:\n",
        "            count=count+1\n",
        "        else:\n",
        "            product=product*i\n",
        "       \n",
        "    if count<0:\n",
        "        for i in range(n):\n",
        "            l.append(0)\n",
        "    else:\n",
        "        for i in b:\n",
        "            if count==0:\n",
        "                l.append(product/i)\n",
        "            else:\n",
        "                if i==0:\n",
        "                    l.append(product)\n",
        "                else:\n",
        "                    l.append(0)\n",
        "    print(\"Output array is: \"),\n",
        "    print(*l)\n",
        "        # for i in range(n):\n",
        "        #     print(l[i])\n",
        "\n",
        "\n",
        "\n",
        "h=int(input(\"Enter no of numbers in the array: \"))\n",
        "\n",
        "a = list(map(int,input(\"\\nEnter the numbers by giving space: \").strip().split()))[:h]\n",
        "print(\"Input array is: \"),\n",
        "print(*a)\n",
        "my_function(a,h)"
      ]
    }
  ]
}